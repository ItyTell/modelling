{
 "cells": [
  {
   "cell_type": "code",
   "execution_count": 2,
   "metadata": {},
   "outputs": [],
   "source": [
    "import matplotlib.pyplot as plt\n",
    "import numpy as np\n",
    "import sympy as sp\n",
    "from IPython.display import display, Latex"
   ]
  },
  {
   "cell_type": "code",
   "execution_count": 48,
   "metadata": {},
   "outputs": [],
   "source": [
    "t = sp.symbols('t')\n",
    "B = sp.Matrix([[sp.sin(t), sp.cos(t)], [-sp.cos(t), sp.sin(t)], [sp.sqrt(t), t**3]])\n",
    "b = sp.Matrix([sp.sqrt(t), sp.sin(t), sp.cos(t)])\n",
    "T = 5\n",
    "n = 3"
   ]
  },
  {
   "cell_type": "code",
   "execution_count": 49,
   "metadata": {},
   "outputs": [
    {
     "data": {
      "text/latex": [
       "$ \\left[\\begin{matrix}\\sin{\\left(t \\right)} & \\cos{\\left(t \\right)}\\\\- \\cos{\\left(t \\right)} & \\sin{\\left(t \\right)}\\\\\\sqrt{t} & t^{3}\\end{matrix}\\right] * x = \\left[\\begin{matrix}\\sqrt{t}\\\\\\sin{\\left(t \\right)}\\\\\\cos{\\left(t \\right)}\\end{matrix}\\right] $"
      ],
      "text/plain": [
       "<IPython.core.display.Latex object>"
      ]
     },
     "metadata": {},
     "output_type": "display_data"
    }
   ],
   "source": [
    "display(Latex(\"$ {} * x = {} $\".format(sp.latex(B), sp.latex(b))))"
   ]
  },
  {
   "cell_type": "code",
   "execution_count": 50,
   "metadata": {},
   "outputs": [
    {
     "data": {
      "text/latex": [
       "$\\displaystyle \\left[\\begin{matrix}t + \\sin^{2}{\\left(t \\right)} + \\cos^{2}{\\left(t \\right)} & t^{\\frac{7}{2}}\\\\t^{\\frac{7}{2}} & t^{6} + \\sin^{2}{\\left(t \\right)} + \\cos^{2}{\\left(t \\right)}\\end{matrix}\\right]$"
      ],
      "text/plain": [
       "Matrix([\n",
       "[t + sin(t)**2 + cos(t)**2,                     t**(7/2)],\n",
       "[                 t**(7/2), t**6 + sin(t)**2 + cos(t)**2]])"
      ]
     },
     "execution_count": 50,
     "metadata": {},
     "output_type": "execute_result"
    }
   ],
   "source": [
    "B.T*B"
   ]
  },
  {
   "cell_type": "code",
   "execution_count": 51,
   "metadata": {},
   "outputs": [
    {
     "data": {
      "text/latex": [
       "$\\displaystyle \\left[\\begin{matrix}17.5 & 310.56\\\\310.56 & 11166.0\\end{matrix}\\right]$"
      ],
      "text/plain": [
       "Matrix([\n",
       "[  17.5,  310.56],\n",
       "[310.56, 11166.0]])"
      ]
     },
     "execution_count": 51,
     "metadata": {},
     "output_type": "execute_result"
    }
   ],
   "source": [
    "P2 = sp.integrate(B.T*B, (t, 0, T))\n",
    "P2.evalf(5)"
   ]
  },
  {
   "cell_type": "code",
   "execution_count": 52,
   "metadata": {},
   "outputs": [
    {
     "data": {
      "text/latex": [
       "$\\displaystyle \\left[\\begin{matrix}\\sqrt{t} \\sin{\\left(t \\right)} + \\sqrt{t} \\cos{\\left(t \\right)} - \\sin{\\left(t \\right)} \\cos{\\left(t \\right)}\\\\\\sqrt{t} \\cos{\\left(t \\right)} + t^{3} \\cos{\\left(t \\right)} + \\sin^{2}{\\left(t \\right)}\\end{matrix}\\right]$"
      ],
      "text/plain": [
       "Matrix([\n",
       "[sqrt(t)*sin(t) + sqrt(t)*cos(t) - sin(t)*cos(t)],\n",
       "[       sqrt(t)*cos(t) + t**3*cos(t) + sin(t)**2]])"
      ]
     },
     "execution_count": 52,
     "metadata": {},
     "output_type": "execute_result"
    }
   ],
   "source": [
    "B.T *b"
   ]
  },
  {
   "cell_type": "code",
   "execution_count": 53,
   "metadata": {},
   "outputs": [
    {
     "data": {
      "text/latex": [
       "$\\displaystyle \\left[\\begin{matrix}-3.41\\\\-65.6\\end{matrix}\\right]$"
      ],
      "text/plain": [
       "Matrix([\n",
       "[-3.41],\n",
       "[-65.6]])"
      ]
     },
     "execution_count": 53,
     "metadata": {},
     "output_type": "execute_result"
    }
   ],
   "source": [
    "Bb = sp.integrate(B.T * b, (t, 0, T))\n",
    "Bb.evalf(3)"
   ]
  },
  {
   "cell_type": "code",
   "execution_count": 54,
   "metadata": {},
   "outputs": [
    {
     "data": {
      "text/latex": [
       "$\\displaystyle 98949.3827160494$"
      ],
      "text/plain": [
       "98949.3827160494"
      ]
     },
     "execution_count": 54,
     "metadata": {},
     "output_type": "execute_result"
    }
   ],
   "source": [
    "sp.det(P2).evalf()"
   ]
  },
  {
   "cell_type": "code",
   "execution_count": 58,
   "metadata": {},
   "outputs": [],
   "source": [
    "v = sp.Matrix(np.zeros(2))\n",
    "#v = sp.Matrix([20, 10])\n",
    "x = P2.evalf().pinv() * Bb + v - P2.evalf().pinv() * P2 * v"
   ]
  },
  {
   "cell_type": "code",
   "execution_count": 1,
   "metadata": {},
   "outputs": [
    {
     "ename": "NameError",
     "evalue": "name 'x' is not defined",
     "output_type": "error",
     "traceback": [
      "\u001b[1;31m---------------------------------------------------------------------------\u001b[0m",
      "\u001b[1;31mNameError\u001b[0m                                 Traceback (most recent call last)",
      "\u001b[1;32mc:\\Users\\nickk\\modeling\\lab 2\\lab2.ipynb Cell 10\u001b[0m line \u001b[0;36m1\n\u001b[1;32m----> <a href='vscode-notebook-cell:/c%3A/Users/nickk/modeling/lab%202/lab2.ipynb#X12sZmlsZQ%3D%3D?line=0'>1</a>\u001b[0m x\u001b[39m.\u001b[39mevalf(\u001b[39m5\u001b[39m)\n",
      "\u001b[1;31mNameError\u001b[0m: name 'x' is not defined"
     ]
    }
   ],
   "source": [
    "x.evalf(5)"
   ]
  },
  {
   "cell_type": "code",
   "execution_count": 57,
   "metadata": {},
   "outputs": [
    {
     "data": {
      "text/latex": [
       "$\\displaystyle \\left[\\begin{matrix}16.830724220274\\end{matrix}\\right]$"
      ],
      "text/plain": [
       "Matrix([[16.830724220274]])"
      ]
     },
     "execution_count": 57,
     "metadata": {},
     "output_type": "execute_result"
    }
   ],
   "source": [
    "epsilon = sp.integrate(b.T * b, (t, 0, T)) - Bb.T * P2.evalf().pinv() * Bb\n",
    "epsilon.evalf()"
   ]
  }
 ],
 "metadata": {
  "kernelspec": {
   "display_name": "base",
   "language": "python",
   "name": "python3"
  },
  "language_info": {
   "codemirror_mode": {
    "name": "ipython",
    "version": 3
   },
   "file_extension": ".py",
   "mimetype": "text/x-python",
   "name": "python",
   "nbconvert_exporter": "python",
   "pygments_lexer": "ipython3",
   "version": "3.11.4"
  },
  "orig_nbformat": 4
 },
 "nbformat": 4,
 "nbformat_minor": 2
}
