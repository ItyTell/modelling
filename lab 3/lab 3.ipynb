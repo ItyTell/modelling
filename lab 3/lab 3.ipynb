{
 "cells": [
  {
   "cell_type": "code",
   "execution_count": 46,
   "metadata": {},
   "outputs": [],
   "source": [
    "import matplotlib.pyplot as plt\n",
    "import numpy as np\n",
    "import sympy as sp\n",
    "import scipy\n",
    "from IPython.display import display, Latex"
   ]
  },
  {
   "cell_type": "code",
   "execution_count": 58,
   "metadata": {},
   "outputs": [],
   "source": [
    "t, x = sp.symbols(\"t, x\")\n",
    "\n",
    "A = 1\n",
    "B = 3\n",
    "\n",
    "n = 2\n",
    "\n",
    "T = 5\n",
    "\n",
    "C = 5\n",
    "\n",
    "c = 1\n",
    "\n",
    "L = lambda y: sp.diff(y, t) - c * sp.diff(y, x)\n",
    "\n",
    "L_0 = [lambda y: y, lambda y: sp.diff(y, x)]\n",
    "\n",
    "L_G = [lambda y: y]\n",
    "\n",
    "H = sp.Piecewise((0, t <= 0), (1, t > 0))\n",
    "\n",
    "G = H.subs({t: t - abs(x) / c}) / 2 / c\n",
    "\n",
    "y_expr = x*x + (t - 1) ** 2\n",
    "\n",
    "\n",
    "zero = np.random.uniform(0.0001, 9.0002)"
   ]
  },
  {
   "cell_type": "code",
   "execution_count": 25,
   "metadata": {},
   "outputs": [
    {
     "data": {
      "text/latex": [
       "$\\displaystyle \\frac{\\begin{cases} 0 & \\text{for}\\: t - \\left|{x}\\right| \\leq 0 \\\\1 & \\text{otherwise} \\end{cases}}{2}$"
      ],
      "text/plain": [
       "Piecewise((0, t - Abs(x) <= 0), (1, True))/2"
      ]
     },
     "execution_count": 25,
     "metadata": {},
     "output_type": "execute_result"
    }
   ],
   "source": [
    "G"
   ]
  },
  {
   "cell_type": "code",
   "execution_count": 26,
   "metadata": {},
   "outputs": [],
   "source": [
    "def cartesian_product(x, y):\n",
    "    return np.dstack(np.meshgrid(x, y)).reshape(-1, 2)\n",
    "\n",
    "def generate_space():\n",
    "    eps = np.random. uniform(0.0001,0.0002)\n",
    "\n",
    "    space = np.linspace(A, B, n)\n",
    "    time = np.linspace(0, T, n)\n",
    "    space_time = cartesian_product(space, time)\n",
    "\n",
    "    pre_time = np.linspace(-C, -eps, n)\n",
    "    space_pre_time = cartesian_product(space, pre_time)\n",
    "\n",
    "    pre_space = np.linspace(A - c, A - eps, n)\n",
    "\n",
    "    post_space = np.linspace(B + eps, B + c, n)\n",
    "\n",
    "    out_space = np.concatenate((pre_space, post_space), axis=0)\n",
    "    out_space_time = cartesian_product(out_space, time)\n",
    "    \n",
    "    return space, space_time, space_pre_time, out_space_time"
   ]
  },
  {
   "cell_type": "code",
   "execution_count": 27,
   "metadata": {},
   "outputs": [],
   "source": [
    "S, S_T, S_0, S_G = generate_space()"
   ]
  },
  {
   "cell_type": "code",
   "execution_count": 29,
   "metadata": {},
   "outputs": [
    {
     "data": {
      "image/png": "[encoded data removed]",
      "text/plain": [
       "<Figure size 800x600 with 1 Axes>"
      ]
     },
     "metadata": {},
     "output_type": "display_data"
    }
   ],
   "source": [
    "plt.figure(figsize=(8, 6))\n",
    "plt.scatter(S_T[:, 0], S_T[:, 1], label=\"$S_T$\", linewidths=10)\n",
    "plt.scatter(S_0[:, 0], S_0[:, 1], label=\"$S_0$\", linewidths=5)\n",
    "plt.scatter(S_G[:, 0], S_G[:, 1], label=\"$S_G$\")\n",
    "plt.legend()\n",
    "plt.show()"
   ]
  },
  {
   "cell_type": "code",
   "execution_count": 43,
   "metadata": {},
   "outputs": [],
   "source": [
    "def generate_B(S_0, S_G):\n",
    "    start = A\n",
    "\n",
    "    r_0, m_0 = len(L_0), len(S_0)\n",
    "\n",
    "    B_11 = np.zeros((r_0, m_0)).tolist()\n",
    "\n",
    "    for i in range(r_0):\n",
    "        for j in range(m_0):\n",
    "            s_x, s_t = S_0[j]\n",
    "            expr = L_0[i](G.subs([(x, x - s_x), (t, t - s_t)])).subs(t, zero)\n",
    "            B_11[i][j] = expr\n",
    "\n",
    "    B_11 = sp.Matrix(B_11)\n",
    "\n",
    "    r_0, m_0 = len(L_0), len(S_G)\n",
    "\n",
    "    B_12 = np.zeros((r_0, m_0)).tolist()\n",
    "\n",
    "    for i in range(r_0):\n",
    "        for j in range(m_0):\n",
    "            s_x, s_t = S_G[j]\n",
    "            expr = L_0[i](G.subs([(x, x - s_x), (t, t - s_t)])).subs(t, zero)\n",
    "            B_12[i][j] = expr\n",
    "\n",
    "    B_12 = sp.Matrix(B_12)\n",
    "\n",
    "    r_G, m_0 = len(L_G), len(S_0)\n",
    "    B_21 = np.zeros((r_G, m_0)).tolist()\n",
    "    for i in range(r_G):\n",
    "        for j in range(m_0):\n",
    "            s_x, s_t = S_0[j]\n",
    "            expr = L_G[i](G.subs([(x, x - s_x), (t, t - s_t)])).subs(x, start)\n",
    "            B_21[i][j] = expr\n",
    "\n",
    "    B_21 = sp.Matrix(B_21)\n",
    "\n",
    "\n",
    "    r_G, m_G = len(L_G), len(S_G)\n",
    "    B_22 = np.zeros((r_G, m_G)).tolist()\n",
    "    for i in range(r_G):\n",
    "        for j in range(m_G):\n",
    "            sx, st = S_G[j]\n",
    "            expr = L_G[i](G.subs([(x, x - s_x), (t, t - s_t)])).subs(x, start)\n",
    "            B_22[i][j] = expr\n",
    "    B_22 = sp.Matrix(B_22)\n",
    "\n",
    "    B=[\n",
    "    [B_11, B_12],\n",
    "    [B_21, B_22]\n",
    "    ]\n",
    "\n",
    "    return B"
   ]
  },
  {
   "cell_type": "code",
   "execution_count": 44,
   "metadata": {},
   "outputs": [],
   "source": [
    "B = generate_B(S_0, S_G)"
   ]
  },
  {
   "cell_type": "code",
   "execution_count": 53,
   "metadata": {},
   "outputs": [
    {
     "data": {
      "text/latex": [
       "$\\displaystyle \\left[\\begin{matrix}\\frac{\\begin{cases} 0 & \\text{for}\\: \\left|{x - 1.0}\\right| - 5.4719045151521 \\geq 0 \\\\1 & \\text{otherwise} \\end{cases}}{2} & \\frac{\\begin{cases} 0 & \\text{for}\\: \\left|{x - 3.0}\\right| - 5.4719045151521 \\geq 0 \\\\1 & \\text{otherwise} \\end{cases}}{2} & \\frac{\\begin{cases} 0 & \\text{for}\\: \\left|{x - 1.0}\\right| - 0.472057277506411 \\geq 0 \\\\1 & \\text{otherwise} \\end{cases}}{2} & \\frac{\\begin{cases} 0 & \\text{for}\\: \\left|{x - 3.0}\\right| - 0.472057277506411 \\geq 0 \\\\1 & \\text{otherwise} \\end{cases}}{2}\\\\0 & 0 & 0 & 0\\end{matrix}\\right]$"
      ],
      "text/plain": [
       "Matrix([\n",
       "[Piecewise((0, Abs(x - 1.0) - 5.4719045151521 >= 0), (1, True))/2, Piecewise((0, Abs(x - 3.0) - 5.4719045151521 >= 0), (1, True))/2, Piecewise((0, Abs(x - 1.0) - 0.472057277506411 >= 0), (1, True))/2, Piecewise((0, Abs(x - 3.0) - 0.472057277506411 >= 0), (1, True))/2],\n",
       "[                                                               0,                                                                0,                                                                  0,                                                                  0]])"
      ]
     },
     "execution_count": 53,
     "metadata": {},
     "output_type": "execute_result"
    }
   ],
   "source": [
    "B[0][0]"
   ]
  },
  {
   "cell_type": "code",
   "execution_count": 54,
   "metadata": {},
   "outputs": [],
   "source": [
    "def intagrate_S(M):\n",
    "    n, m = len(M), len(M[0])\n",
    "\n",
    "    X = np.zeros((n, m)).tolist()\n",
    "\n",
    "    for i in range(n):\n",
    "        for j in range(m):\n",
    "            f_expr = M[i][j]\n",
    "            f = lambda x_val: f_expr.subs({x, x_val}).evalf()\n",
    "            X[i][j] = scipy.integrate.quad(f, A, B)[0]\n",
    "    \n",
    "    return X"
   ]
  },
  {
   "cell_type": "code",
   "execution_count": 59,
   "metadata": {},
   "outputs": [],
   "source": [
    "def intagrate_G(M):\n",
    "\n",
    "    n, m = len(M), len(M[0])\n",
    "\n",
    "    X = np.zeros((n, m)).tolist()\n",
    "\n",
    "    for i in range(n):\n",
    "        for j in range(m):\n",
    "            f_expr = M[i][j]\n",
    "            f = lambda x_val, t_val: f_expr.subs({x: x_val, t: t_val}).evalf()\n",
    "            val1 = scipy.integrate.quad(lambda t: f(A, t), zero, T)[0]\n",
    "            val2 = scipy.integrate.quad(lambda t: f(B, t), zero, T)[0]\n",
    "            X[i][j] = val1 + val2\n",
    "\n",
    "    return X"
   ]
  }
 ],
 "metadata": {
  "kernelspec": {
   "display_name": "base",
   "language": "python",
   "name": "python3"
  },
  "language_info": {
   "codemirror_mode": {
    "name": "ipython",
    "version": 3
   },
   "file_extension": ".py",
   "mimetype": "text/x-python",
   "name": "python",
   "nbconvert_exporter": "python",
   "pygments_lexer": "ipython3",
   "version": "3.11.4"
  }
 },
 "nbformat": 4,
 "nbformat_minor": 2
}
